{
 "cells": [
  {
   "cell_type": "markdown",
   "metadata": {
    "colab_type": "text",
    "id": "XElFSD-OZVa0"
   },
   "source": [
    "# LightGBM, Load Modules, Install LightGBM"
   ]
  },
  {
   "cell_type": "markdown",
   "metadata": {
    "colab_type": "text",
    "id": "yJB6am0yS6G-"
   },
   "source": [
    "## Load Modules, Import Dataset"
   ]
  },
  {
   "cell_type": "code",
   "execution_count": 1,
   "metadata": {
    "colab": {
     "base_uri": "https://localhost:8080/",
     "height": 110
    },
    "colab_type": "code",
    "id": "x3f2R0lbZTx9",
    "outputId": "c1ee3000-0f7c-4da4-fbad-b1f6180dfa5b"
   },
   "outputs": [],
   "source": [
    "import sys\n",
    "import pandas as pd\n",
    "import numpy as np\n",
    "import scipy as sp\n",
    "import sklearn as sk\n",
    "import seaborn as sns\n",
    "import matplotlib\n",
    "import matplotlib.pyplot as plt\n",
    "\n",
    "\n",
    "from scipy.stats import uniform\n",
    "from imblearn.over_sampling import ADASYN, SMOTE\n",
    "from imblearn.under_sampling import RandomUnderSampler\n",
    "from imblearn.pipeline import Pipeline\n",
    "from sklearn.pipeline import FeatureUnion\n",
    "from sklearn.model_selection import train_test_split, cross_val_predict, GridSearchCV, RandomizedSearchCV\n",
    "from sklearn.compose import ColumnTransformer\n",
    "from sklearn.metrics import f1_score, make_scorer, roc_auc_score, classification_report\n",
    "from sklearn.preprocessing import MinMaxScaler, OneHotEncoder, FunctionTransformer, RobustScaler, KBinsDiscretizer, StandardScaler\n",
    "from sklearn.base import clone\n",
    "from sklearn.impute import SimpleImputer\n",
    "from sklearn.datasets import make_classification\n",
    "\n",
    "df = pd.read_csv('https://raw.githubusercontent.com/saschaschworm/big-data-and-data-science/master/datasets/prediction-challenge/dataset.csv')\n"
   ]
  },
  {
   "cell_type": "markdown",
   "metadata": {
    "colab_type": "text",
    "id": "WCXSyMmfSuru"
   },
   "source": [
    "### Make additional categorical feature out of days_since_last_contact"
   ]
  },
  {
   "cell_type": "code",
   "execution_count": 2,
   "metadata": {
    "colab": {},
    "colab_type": "code",
    "id": "IrMlKjGUAuTS"
   },
   "outputs": [],
   "source": [
    "df['days_since_last_contact'] = np.where(df['days_since_last_contact'].between(1,5), 1, df['days_since_last_contact'])\n",
    "df['days_since_last_contact'] = df['days_since_last_contact'].mask(df['days_since_last_contact'] >= 6, 2)\n",
    "df['days_since_last_contact'] = df['days_since_last_contact'].mask(df['days_since_last_contact'] == -1, 999)\n",
    "\n",
    "df['days_since_last_contact_cat'] = np.where(df['days_since_last_contact'].between(1,5), 1, df['days_since_last_contact'])\n",
    "df['days_since_last_contact_cat'] = df['days_since_last_contact'].mask(df['days_since_last_contact'] >= 6, 2)\n",
    "df['days_since_last_contact_cat'] = df['days_since_last_contact'].mask(df['days_since_last_contact'] == -1, 999)\n",
    "df['days_since_last_contact_cat'] = np.where(df['days_since_last_contact_cat'].between(1,5), 1, df['days_since_last_contact'])\n",
    "df['days_since_last_contact_cat'] = df['days_since_last_contact_cat'].mask(df['days_since_last_contact'] >= 6, 2)\n",
    "df['days_since_last_contact_cat'] = df['days_since_last_contact_cat'].mask(df['days_since_last_contact'] == -1, 999)"
   ]
  },
  {
   "cell_type": "code",
   "execution_count": 3,
   "metadata": {
    "colab": {},
    "colab_type": "code",
    "id": "Dpq7o4ovTYIa"
   },
   "outputs": [],
   "source": [
    "df[\"days_since_last_contact_cat\"] = df[\"days_since_last_contact_cat\"].astype('object')"
   ]
  },
  {
   "cell_type": "code",
   "execution_count": 4,
   "metadata": {
    "colab": {},
    "colab_type": "code",
    "id": "07a92S9cTYZl"
   },
   "outputs": [],
   "source": [
    "#df[\"n_contacts_before\"] = df[\"n_contacts_before\"].astype('object')"
   ]
  },
  {
   "cell_type": "code",
   "execution_count": 5,
   "metadata": {},
   "outputs": [
    {
     "data": {
      "text/html": [
       "<div>\n",
       "<style scoped>\n",
       "    .dataframe tbody tr th:only-of-type {\n",
       "        vertical-align: middle;\n",
       "    }\n",
       "\n",
       "    .dataframe tbody tr th {\n",
       "        vertical-align: top;\n",
       "    }\n",
       "\n",
       "    .dataframe thead th {\n",
       "        text-align: right;\n",
       "    }\n",
       "</style>\n",
       "<table border=\"1\" class=\"dataframe\">\n",
       "  <thead>\n",
       "    <tr style=\"text-align: right;\">\n",
       "      <th></th>\n",
       "      <th>identifier</th>\n",
       "      <th>date</th>\n",
       "      <th>age</th>\n",
       "      <th>marital_status</th>\n",
       "      <th>education</th>\n",
       "      <th>job</th>\n",
       "      <th>credit_default</th>\n",
       "      <th>housing_loan</th>\n",
       "      <th>personal_loan</th>\n",
       "      <th>communication_type</th>\n",
       "      <th>n_contacts_campaign</th>\n",
       "      <th>days_since_last_contact</th>\n",
       "      <th>n_contacts_before</th>\n",
       "      <th>previous_conversion</th>\n",
       "      <th>duration</th>\n",
       "      <th>success</th>\n",
       "      <th>days_since_last_contact_cat</th>\n",
       "    </tr>\n",
       "  </thead>\n",
       "  <tbody>\n",
       "    <tr>\n",
       "      <th>0</th>\n",
       "      <td>34203</td>\n",
       "      <td>2009-05-06</td>\n",
       "      <td>36</td>\n",
       "      <td>divorced</td>\n",
       "      <td>High School</td>\n",
       "      <td>Service provider</td>\n",
       "      <td>No</td>\n",
       "      <td>No</td>\n",
       "      <td>Yes</td>\n",
       "      <td>Landline network</td>\n",
       "      <td>5</td>\n",
       "      <td>999</td>\n",
       "      <td>0</td>\n",
       "      <td>Inexistent</td>\n",
       "      <td>992</td>\n",
       "      <td>No</td>\n",
       "      <td>2</td>\n",
       "    </tr>\n",
       "    <tr>\n",
       "      <th>1</th>\n",
       "      <td>1250</td>\n",
       "      <td>2008-05-08</td>\n",
       "      <td>32</td>\n",
       "      <td>single</td>\n",
       "      <td>University</td>\n",
       "      <td>Student</td>\n",
       "      <td>No</td>\n",
       "      <td>Yes</td>\n",
       "      <td>No</td>\n",
       "      <td>Landline network</td>\n",
       "      <td>1</td>\n",
       "      <td>999</td>\n",
       "      <td>0</td>\n",
       "      <td>Inexistent</td>\n",
       "      <td>147</td>\n",
       "      <td>No</td>\n",
       "      <td>2</td>\n",
       "    </tr>\n",
       "    <tr>\n",
       "      <th>2</th>\n",
       "      <td>38130</td>\n",
       "      <td>2009-09-04</td>\n",
       "      <td>68</td>\n",
       "      <td>single</td>\n",
       "      <td>University</td>\n",
       "      <td>Pensioner</td>\n",
       "      <td>No</td>\n",
       "      <td>Yes</td>\n",
       "      <td>No</td>\n",
       "      <td>Celluar phone network</td>\n",
       "      <td>1</td>\n",
       "      <td>999</td>\n",
       "      <td>0</td>\n",
       "      <td>Inexistent</td>\n",
       "      <td>139</td>\n",
       "      <td>No</td>\n",
       "      <td>2</td>\n",
       "    </tr>\n",
       "    <tr>\n",
       "      <th>3</th>\n",
       "      <td>19300</td>\n",
       "      <td>2008-08-06</td>\n",
       "      <td>39</td>\n",
       "      <td>single</td>\n",
       "      <td>University</td>\n",
       "      <td>Administrator</td>\n",
       "      <td>No</td>\n",
       "      <td>No</td>\n",
       "      <td>No</td>\n",
       "      <td>Celluar phone network</td>\n",
       "      <td>1</td>\n",
       "      <td>999</td>\n",
       "      <td>0</td>\n",
       "      <td>Inexistent</td>\n",
       "      <td>127</td>\n",
       "      <td>No</td>\n",
       "      <td>2</td>\n",
       "    </tr>\n",
       "    <tr>\n",
       "      <th>4</th>\n",
       "      <td>34497</td>\n",
       "      <td>2009-05-07</td>\n",
       "      <td>30</td>\n",
       "      <td>married</td>\n",
       "      <td>Middle School</td>\n",
       "      <td>Administrator</td>\n",
       "      <td>No</td>\n",
       "      <td>No</td>\n",
       "      <td>No</td>\n",
       "      <td>Celluar phone network</td>\n",
       "      <td>1</td>\n",
       "      <td>999</td>\n",
       "      <td>1</td>\n",
       "      <td>Failed</td>\n",
       "      <td>586</td>\n",
       "      <td>No</td>\n",
       "      <td>2</td>\n",
       "    </tr>\n",
       "  </tbody>\n",
       "</table>\n",
       "</div>"
      ],
      "text/plain": [
       "   identifier        date  age marital_status      education  \\\n",
       "0       34203  2009-05-06   36       divorced    High School   \n",
       "1        1250  2008-05-08   32         single     University   \n",
       "2       38130  2009-09-04   68         single     University   \n",
       "3       19300  2008-08-06   39         single     University   \n",
       "4       34497  2009-05-07   30        married  Middle School   \n",
       "\n",
       "                job credit_default housing_loan personal_loan  \\\n",
       "0  Service provider             No           No           Yes   \n",
       "1           Student             No          Yes            No   \n",
       "2         Pensioner             No          Yes            No   \n",
       "3     Administrator             No           No            No   \n",
       "4     Administrator             No           No            No   \n",
       "\n",
       "      communication_type  n_contacts_campaign  days_since_last_contact  \\\n",
       "0       Landline network                    5                      999   \n",
       "1       Landline network                    1                      999   \n",
       "2  Celluar phone network                    1                      999   \n",
       "3  Celluar phone network                    1                      999   \n",
       "4  Celluar phone network                    1                      999   \n",
       "\n",
       "   n_contacts_before previous_conversion  duration success  \\\n",
       "0                  0          Inexistent       992      No   \n",
       "1                  0          Inexistent       147      No   \n",
       "2                  0          Inexistent       139      No   \n",
       "3                  0          Inexistent       127      No   \n",
       "4                  1              Failed       586      No   \n",
       "\n",
       "  days_since_last_contact_cat  \n",
       "0                           2  \n",
       "1                           2  \n",
       "2                           2  \n",
       "3                           2  \n",
       "4                           2  "
      ]
     },
     "execution_count": 5,
     "metadata": {},
     "output_type": "execute_result"
    }
   ],
   "source": [
    "df.head()"
   ]
  },
  {
   "cell_type": "markdown",
   "metadata": {
    "colab_type": "text",
    "id": "uDNuQt4X2NRR"
   },
   "source": [
    "## Featuretool for finding features"
   ]
  },
  {
   "cell_type": "code",
   "execution_count": 6,
   "metadata": {
    "colab": {},
    "colab_type": "code",
    "id": "L_DmyTk7UtaZ"
   },
   "outputs": [],
   "source": [
    "import featuretools as ft"
   ]
  },
  {
   "cell_type": "code",
   "execution_count": 7,
   "metadata": {
    "colab": {
     "base_uri": "https://localhost:8080/",
     "height": 35
    },
    "colab_type": "code",
    "id": "LvrF2vUzVNI3",
    "outputId": "0bb5c5cb-5161-4e39-84e9-54a1e5e513eb"
   },
   "outputs": [],
   "source": [
    "es = ft.EntitySet(id = 'df')\n",
    "\n",
    "es = es.entity_from_dataframe(entity_id='df', \n",
    "                              dataframe = df, \n",
    "                              index = 'identifier', \n",
    "                              time_index = 'date', \n",
    "                              variable_types = {\"identifier\": ft.variable_types.Index, \"age\":ft.variable_types.Ordinal ,\"marital_status\": ft.variable_types.Categorical, \n",
    "                                                \"education\": ft.variable_types.Categorical, \"job\": ft.variable_types.Categorical, \"credit_default\": ft.variable_types.Boolean, \n",
    "                                                \"housing_loan\": ft.variable_types.Boolean, \"personal_loan\": ft.variable_types.Boolean, \"communication_type\": ft.variable_types.Categorical, \n",
    "                                                \"n_contacts_campaign\": ft.variable_types.Ordinal, \"days_since_last_contact\": ft.variable_types.variable.Numeric, \n",
    "                                                \"n_contacts_before\": ft.variable_types.variable.Ordinal, \"previous_conversion\": ft.variable_types.variable.Categorical, \n",
    "                                                \"duration\": ft.variable_types.variable.Numeric, \"success\": ft.variable_types.variable.Boolean, \"days_since_last_contact_cat\": ft.variable_types.variable.Categorical})\n",
    "\n",
    "es['df']\n",
    "\n",
    "df_new, df_new_names = ft.dfs(entityset=es, target_entity='df',\n",
    "                              trans_primitives = ['day', 'weekday', 'week', 'percentile'],\n",
    "                              max_depth = 2)"
   ]
  },
  {
   "cell_type": "code",
   "execution_count": 8,
   "metadata": {},
   "outputs": [
    {
     "data": {
      "text/plain": [
       "\"pd.set_option('display.max_columns', None)\\npd.set_option('display.max_rows', None)\\nft.primitives.list_primitives()\""
      ]
     },
     "execution_count": 8,
     "metadata": {},
     "output_type": "execute_result"
    }
   ],
   "source": [
    "'''pd.set_option('display.max_columns', None)\n",
    "pd.set_option('display.max_rows', None)\n",
    "ft.primitives.list_primitives()'''"
   ]
  },
  {
   "cell_type": "code",
   "execution_count": 9,
   "metadata": {
    "colab": {},
    "colab_type": "code",
    "id": "H9m8yvsGiC0W"
   },
   "outputs": [],
   "source": [
    "df_new = df_new.loc[:,df_new.apply(pd.Series.nunique) != 1]"
   ]
  },
  {
   "cell_type": "code",
   "execution_count": 10,
   "metadata": {},
   "outputs": [],
   "source": [
    "df = df_new"
   ]
  },
  {
   "cell_type": "code",
   "execution_count": 11,
   "metadata": {},
   "outputs": [
    {
     "data": {
      "text/html": [
       "<div>\n",
       "<style scoped>\n",
       "    .dataframe tbody tr th:only-of-type {\n",
       "        vertical-align: middle;\n",
       "    }\n",
       "\n",
       "    .dataframe tbody tr th {\n",
       "        vertical-align: top;\n",
       "    }\n",
       "\n",
       "    .dataframe thead th {\n",
       "        text-align: right;\n",
       "    }\n",
       "</style>\n",
       "<table border=\"1\" class=\"dataframe\">\n",
       "  <thead>\n",
       "    <tr style=\"text-align: right;\">\n",
       "      <th></th>\n",
       "      <th>age</th>\n",
       "      <th>marital_status</th>\n",
       "      <th>education</th>\n",
       "      <th>job</th>\n",
       "      <th>credit_default</th>\n",
       "      <th>housing_loan</th>\n",
       "      <th>personal_loan</th>\n",
       "      <th>communication_type</th>\n",
       "      <th>n_contacts_campaign</th>\n",
       "      <th>days_since_last_contact</th>\n",
       "      <th>n_contacts_before</th>\n",
       "      <th>previous_conversion</th>\n",
       "      <th>duration</th>\n",
       "      <th>success</th>\n",
       "      <th>days_since_last_contact_cat</th>\n",
       "      <th>DAY(date)</th>\n",
       "      <th>WEEKDAY(date)</th>\n",
       "      <th>WEEK(date)</th>\n",
       "      <th>PERCENTILE(duration)</th>\n",
       "      <th>PERCENTILE(days_since_last_contact)</th>\n",
       "    </tr>\n",
       "    <tr>\n",
       "      <th>identifier</th>\n",
       "      <th></th>\n",
       "      <th></th>\n",
       "      <th></th>\n",
       "      <th></th>\n",
       "      <th></th>\n",
       "      <th></th>\n",
       "      <th></th>\n",
       "      <th></th>\n",
       "      <th></th>\n",
       "      <th></th>\n",
       "      <th></th>\n",
       "      <th></th>\n",
       "      <th></th>\n",
       "      <th></th>\n",
       "      <th></th>\n",
       "      <th></th>\n",
       "      <th></th>\n",
       "      <th></th>\n",
       "      <th></th>\n",
       "      <th></th>\n",
       "    </tr>\n",
       "  </thead>\n",
       "  <tbody>\n",
       "    <tr>\n",
       "      <th>0</th>\n",
       "      <td>56</td>\n",
       "      <td>married</td>\n",
       "      <td>Elementary School</td>\n",
       "      <td>Housemaid</td>\n",
       "      <td>No</td>\n",
       "      <td>No</td>\n",
       "      <td>No</td>\n",
       "      <td>Landline network</td>\n",
       "      <td>1</td>\n",
       "      <td>999</td>\n",
       "      <td>0</td>\n",
       "      <td>Inexistent</td>\n",
       "      <td>261</td>\n",
       "      <td>No</td>\n",
       "      <td>2</td>\n",
       "      <td>5</td>\n",
       "      <td>0</td>\n",
       "      <td>19</td>\n",
       "      <td>0.670803</td>\n",
       "      <td>0.518236</td>\n",
       "    </tr>\n",
       "    <tr>\n",
       "      <th>1</th>\n",
       "      <td>57</td>\n",
       "      <td>married</td>\n",
       "      <td>High School</td>\n",
       "      <td>Service provider</td>\n",
       "      <td>Unknown</td>\n",
       "      <td>No</td>\n",
       "      <td>No</td>\n",
       "      <td>Landline network</td>\n",
       "      <td>1</td>\n",
       "      <td>999</td>\n",
       "      <td>0</td>\n",
       "      <td>Inexistent</td>\n",
       "      <td>149</td>\n",
       "      <td>No</td>\n",
       "      <td>2</td>\n",
       "      <td>5</td>\n",
       "      <td>0</td>\n",
       "      <td>19</td>\n",
       "      <td>0.407551</td>\n",
       "      <td>0.518236</td>\n",
       "    </tr>\n",
       "    <tr>\n",
       "      <th>2</th>\n",
       "      <td>37</td>\n",
       "      <td>married</td>\n",
       "      <td>High School</td>\n",
       "      <td>Service provider</td>\n",
       "      <td>No</td>\n",
       "      <td>Yes</td>\n",
       "      <td>No</td>\n",
       "      <td>Landline network</td>\n",
       "      <td>1</td>\n",
       "      <td>999</td>\n",
       "      <td>0</td>\n",
       "      <td>Inexistent</td>\n",
       "      <td>226</td>\n",
       "      <td>No</td>\n",
       "      <td>2</td>\n",
       "      <td>5</td>\n",
       "      <td>0</td>\n",
       "      <td>19</td>\n",
       "      <td>0.607232</td>\n",
       "      <td>0.518236</td>\n",
       "    </tr>\n",
       "    <tr>\n",
       "      <th>3</th>\n",
       "      <td>40</td>\n",
       "      <td>married</td>\n",
       "      <td>Middle School</td>\n",
       "      <td>Administrator</td>\n",
       "      <td>No</td>\n",
       "      <td>No</td>\n",
       "      <td>No</td>\n",
       "      <td>Landline network</td>\n",
       "      <td>1</td>\n",
       "      <td>999</td>\n",
       "      <td>0</td>\n",
       "      <td>Inexistent</td>\n",
       "      <td>151</td>\n",
       "      <td>No</td>\n",
       "      <td>2</td>\n",
       "      <td>5</td>\n",
       "      <td>0</td>\n",
       "      <td>19</td>\n",
       "      <td>0.413567</td>\n",
       "      <td>0.518236</td>\n",
       "    </tr>\n",
       "    <tr>\n",
       "      <th>4</th>\n",
       "      <td>56</td>\n",
       "      <td>married</td>\n",
       "      <td>High School</td>\n",
       "      <td>Service provider</td>\n",
       "      <td>No</td>\n",
       "      <td>No</td>\n",
       "      <td>Yes</td>\n",
       "      <td>Landline network</td>\n",
       "      <td>1</td>\n",
       "      <td>999</td>\n",
       "      <td>0</td>\n",
       "      <td>Inexistent</td>\n",
       "      <td>307</td>\n",
       "      <td>No</td>\n",
       "      <td>2</td>\n",
       "      <td>5</td>\n",
       "      <td>0</td>\n",
       "      <td>19</td>\n",
       "      <td>0.734590</td>\n",
       "      <td>0.518236</td>\n",
       "    </tr>\n",
       "  </tbody>\n",
       "</table>\n",
       "</div>"
      ],
      "text/plain": [
       "            age marital_status          education               job  \\\n",
       "identifier                                                            \n",
       "0            56        married  Elementary School         Housemaid   \n",
       "1            57        married        High School  Service provider   \n",
       "2            37        married        High School  Service provider   \n",
       "3            40        married      Middle School     Administrator   \n",
       "4            56        married        High School  Service provider   \n",
       "\n",
       "           credit_default housing_loan personal_loan communication_type  \\\n",
       "identifier                                                                \n",
       "0                      No           No            No   Landline network   \n",
       "1                 Unknown           No            No   Landline network   \n",
       "2                      No          Yes            No   Landline network   \n",
       "3                      No           No            No   Landline network   \n",
       "4                      No           No           Yes   Landline network   \n",
       "\n",
       "            n_contacts_campaign  days_since_last_contact  n_contacts_before  \\\n",
       "identifier                                                                    \n",
       "0                             1                      999                  0   \n",
       "1                             1                      999                  0   \n",
       "2                             1                      999                  0   \n",
       "3                             1                      999                  0   \n",
       "4                             1                      999                  0   \n",
       "\n",
       "           previous_conversion  duration success days_since_last_contact_cat  \\\n",
       "identifier                                                                     \n",
       "0                   Inexistent       261      No                           2   \n",
       "1                   Inexistent       149      No                           2   \n",
       "2                   Inexistent       226      No                           2   \n",
       "3                   Inexistent       151      No                           2   \n",
       "4                   Inexistent       307      No                           2   \n",
       "\n",
       "            DAY(date)  WEEKDAY(date)  WEEK(date)  PERCENTILE(duration)  \\\n",
       "identifier                                                               \n",
       "0                   5              0          19              0.670803   \n",
       "1                   5              0          19              0.407551   \n",
       "2                   5              0          19              0.607232   \n",
       "3                   5              0          19              0.413567   \n",
       "4                   5              0          19              0.734590   \n",
       "\n",
       "            PERCENTILE(days_since_last_contact)  \n",
       "identifier                                       \n",
       "0                                      0.518236  \n",
       "1                                      0.518236  \n",
       "2                                      0.518236  \n",
       "3                                      0.518236  \n",
       "4                                      0.518236  "
      ]
     },
     "execution_count": 11,
     "metadata": {},
     "output_type": "execute_result"
    }
   ],
   "source": [
    "df_new.head()"
   ]
  },
  {
   "cell_type": "code",
   "execution_count": 12,
   "metadata": {},
   "outputs": [],
   "source": [
    "dtypes = pd.DataFrame(df_new.dtypes.rename('type')).reset_index().astype('str')\n",
    "# Exclude duration since it is a leaky variable\n",
    "dtypes = dtypes.query('index != \"duration\"')\n",
    "numeric = dtypes[(dtypes.type.isin(['int64', 'float64'])) & (dtypes['index'] != 'duration')]['index'].values\n",
    "categorical = dtypes[~(dtypes['index'].isin(numeric)) & (dtypes['index'] != 'success')]['index'].values"
   ]
  },
  {
   "cell_type": "markdown",
   "metadata": {
    "colab_type": "text",
    "id": "oIo4s_-CyW46"
   },
   "source": [
    "## Regular Oversampling of minority class\n",
    "Here the code samples our miniority class of \"Yes\" cases up three times to even out some of the unbalanced dataset to reduce the overall failure-proof quality of the learning."
   ]
  },
  {
   "cell_type": "code",
   "execution_count": 13,
   "metadata": {},
   "outputs": [
    {
     "data": {
      "text/plain": [
       "No     32893\n",
       "Yes     4176\n",
       "Name: success, dtype: int64"
      ]
     },
     "execution_count": 13,
     "metadata": {},
     "output_type": "execute_result"
    }
   ],
   "source": [
    "df['success'].value_counts()"
   ]
  },
  {
   "cell_type": "code",
   "execution_count": 14,
   "metadata": {
    "colab": {
     "base_uri": "https://localhost:8080/",
     "height": 72
    },
    "colab_type": "code",
    "id": "k6FWqOZeySHX",
    "outputId": "60933976-b13e-4ffc-b461-0b5fb3e5673e"
   },
   "outputs": [
    {
     "data": {
      "text/plain": [
       "No     32893\n",
       "Yes    15000\n",
       "Name: success, dtype: int64"
      ]
     },
     "execution_count": 14,
     "metadata": {},
     "output_type": "execute_result"
    }
   ],
   "source": [
    "from sklearn.utils import resample\n",
    "\n",
    "# Separate majority and minority classes\n",
    "df_majority = df_new[df_new.success=='No']\n",
    "df_minority = df_new[df_new.success=='Yes']\n",
    " \n",
    "# Upsample minority class\n",
    "df_minority_upsampled = resample(df_minority, \n",
    "                                 replace=True,     # sample with replacement\n",
    "                                 n_samples=15000,    # to match majority class\n",
    "                                 random_state=1909) # reproducible results\n",
    " \n",
    "# Combine majority class with upsampled minority class\n",
    "df_upsampled = pd.concat([df_majority, df_minority_upsampled])\n",
    " \n",
    "# Display new class counts\n",
    "df_upsampled.success.value_counts()"
   ]
  },
  {
   "cell_type": "code",
   "execution_count": 15,
   "metadata": {},
   "outputs": [],
   "source": [
    "df_new = df_upsampled\n",
    "df = df_upsampled"
   ]
  },
  {
   "cell_type": "markdown",
   "metadata": {
    "colab_type": "text",
    "id": "KA5XN4WBx0ye"
   },
   "source": [
    "## Categorical analysis"
   ]
  },
  {
   "cell_type": "code",
   "execution_count": 16,
   "metadata": {
    "colab": {
     "base_uri": "https://localhost:8080/"
    },
    "colab_type": "code",
    "id": "kcqHtXpwyP3A",
    "outputId": "ef5a0846-d20f-42de-91bb-c951a5cdcd4d"
   },
   "outputs": [
    {
     "data": {
      "text/plain": [
       "marital_status                 0\n",
       "education                      0\n",
       "job                            0\n",
       "credit_default                 0\n",
       "housing_loan                   0\n",
       "personal_loan                  0\n",
       "communication_type             0\n",
       "previous_conversion            0\n",
       "days_since_last_contact_cat    0\n",
       "dtype: int64"
      ]
     },
     "execution_count": 16,
     "metadata": {},
     "output_type": "execute_result"
    }
   ],
   "source": [
    "# Missing data?\n",
    "df_new[categorical].isnull().sum()"
   ]
  },
  {
   "cell_type": "code",
   "execution_count": 17,
   "metadata": {
    "colab": {
     "base_uri": "https://localhost:8080/"
    },
    "colab_type": "code",
    "id": "gH_97wicx86a",
    "outputId": "c0c2f43a-f175-4ce9-b534-2584a99a3b07"
   },
   "outputs": [
    {
     "data": {
      "image/png": "[encoded data removed]",
      "text/plain": [
       "<Figure size 432x288 with 1 Axes>"
      ]
     },
     "metadata": {
      "needs_background": "light"
     },
     "output_type": "display_data"
    },
    {
     "data": {
      "image/png": "[encoded data removed]",
      "text/plain": [
       "<Figure size 432x288 with 1 Axes>"
      ]
     },
     "metadata": {
      "needs_background": "light"
     },
     "output_type": "display_data"
    },
    {
     "data": {
      "image/png": "[encoded data removed]",
      "text/plain": [
       "<Figure size 432x288 with 1 Axes>"
      ]
     },
     "metadata": {
      "needs_background": "light"
     },
     "output_type": "display_data"
    },
    {
     "data": {
      "image/png": "[encoded data removed]",
      "text/plain": [
       "<Figure size 432x288 with 1 Axes>"
      ]
     },
     "metadata": {
      "needs_background": "light"
     },
     "output_type": "display_data"
    },
    {
     "data": {
      "image/png": "[encoded data removed]",
      "text/plain": [
       "<Figure size 432x288 with 1 Axes>"
      ]
     },
     "metadata": {
      "needs_background": "light"
     },
     "output_type": "display_data"
    },
    {
     "data": {
      "image/png": "[encoded data removed]",
      "text/plain": [
       "<Figure size 432x288 with 1 Axes>"
      ]
     },
     "metadata": {
      "needs_background": "light"
     },
     "output_type": "display_data"
    },
    {
     "data": {
      "image/png": "[encoded data removed]",
      "text/plain": [
       "<Figure size 432x288 with 1 Axes>"
      ]
     },
     "metadata": {
      "needs_background": "light"
     },
     "output_type": "display_data"
    },
    {
     "data": {
      "image/png": "[encoded data removed]",
      "text/plain": [
       "<Figure size 432x288 with 1 Axes>"
      ]
     },
     "metadata": {
      "needs_background": "light"
     },
     "output_type": "display_data"
    },
    {
     "data": {
      "image/png": "[encoded data removed]",
      "text/plain": [
       "<Figure size 432x288 with 1 Axes>"
      ]
     },
     "metadata": {
      "needs_background": "light"
     },
     "output_type": "display_data"
    }
   ],
   "source": [
    "# Values distributed across categorical attributes\n",
    "for attr in categorical:\n",
    "  plt.figure()\n",
    "  df_new[attr].value_counts().plot(kind='bar', color='steelblue');\n",
    "  plt.title(attr);"
   ]
  },
  {
   "cell_type": "markdown",
   "metadata": {
    "colab_type": "text",
    "id": "Ym6KShJkyZwP"
   },
   "source": [
    "- No missing data about the marital status, therefore good understanding of it\n",
    "- No (or very few) customers are illiterate\n",
    "- No or very few customers who have defaulted on a loan, hereby we can state the fact that the bank probably does not want to extend an offer to a customer with bad credit. But: We have a lot of unknown values. \n",
    "- Proportions of customers with / without housing loan are similar\n",
    "- Few customers have a personal loan\n",
    "- Double as many celluar as landline phone calls\n",
    "- Previous conversions mostly failed or (for the most part) are inexistent. Very few were successful\n",
    "- During the current campaign most of the calls were not successful"
   ]
  },
  {
   "cell_type": "code",
   "execution_count": 18,
   "metadata": {
    "colab": {
     "base_uri": "https://localhost:8080/"
    },
    "colab_type": "code",
    "id": "A8qNTWpTyEfK",
    "outputId": "dc084495-d3a1-472e-ca5d-6586f09fe0fb"
   },
   "outputs": [
    {
     "name": "stdout",
     "output_type": "stream",
     "text": [
      "Support (marital_status)\n",
      "\n",
      "married     28296\n",
      "single      14188\n",
      "divorced     5304\n",
      "unknown       105\n",
      "Name: marital_status, dtype: int64 \n",
      "\n",
      "Support (education)\n",
      "\n",
      "University               14973\n",
      "High School              10978\n",
      "Middle School             9037\n",
      "Professional Training     6076\n",
      "Elementary School         4681\n",
      "Unknown                   2131\n",
      "Illiterate                  17\n",
      "Name: education, dtype: int64 \n",
      "\n",
      "Support (job)\n",
      "\n",
      "Administrator         12551\n",
      "Blue-collar worker     9785\n",
      "Technician             7686\n",
      "Service provider       4419\n",
      "Manager                3381\n",
      "Pensioner              2582\n",
      "Self-employed          1662\n",
      "Founder                1624\n",
      "Student                1458\n",
      "Unemployed             1215\n",
      "Housemaid              1150\n",
      "Unknown                 380\n",
      "Name: job, dtype: int64 \n",
      "\n",
      "Support (credit_default)\n",
      "\n",
      "No         39187\n",
      "Unknown     8703\n",
      "Yes            3\n",
      "Name: credit_default, dtype: int64 \n",
      "\n",
      "Support (housing_loan)\n",
      "\n",
      "Yes        25242\n",
      "No         21522\n",
      "Unknown     1129\n",
      "Name: housing_loan, dtype: int64 \n",
      "\n",
      "Support (personal_loan)\n",
      "\n",
      "No         39536\n",
      "Yes         7228\n",
      "Unknown     1129\n",
      "Name: personal_loan, dtype: int64 \n",
      "\n",
      "Support (communication_type)\n",
      "\n",
      "Celluar phone network    32529\n",
      "Landline network         15364\n",
      "Name: communication_type, dtype: int64 \n",
      "\n",
      "Support (previous_conversion)\n",
      "\n",
      "Inexistent    39300\n",
      "Failed         5294\n",
      "Successful     3299\n",
      "Name: previous_conversion, dtype: int64 \n",
      "\n",
      "Support (days_since_last_contact_cat)\n",
      "\n",
      "2    44315\n",
      "1     3542\n",
      "0       36\n",
      "Name: days_since_last_contact_cat, dtype: int64 \n",
      "\n"
     ]
    },
    {
     "data": {
      "image/png": "[encoded data removed]",
      "text/plain": [
       "<Figure size 864x288 with 2 Axes>"
      ]
     },
     "metadata": {
      "needs_background": "light"
     },
     "output_type": "display_data"
    },
    {
     "data": {
      "image/png": "[encoded data removed]",
      "text/plain": [
       "<Figure size 864x288 with 2 Axes>"
      ]
     },
     "metadata": {
      "needs_background": "light"
     },
     "output_type": "display_data"
    },
    {
     "data": {
      "image/png": "[encoded data removed]",
      "text/plain": [
       "<Figure size 864x288 with 2 Axes>"
      ]
     },
     "metadata": {
      "needs_background": "light"
     },
     "output_type": "display_data"
    },
    {
     "data": {
      "image/png": "[encoded data removed]",
      "text/plain": [
       "<Figure size 864x288 with 2 Axes>"
      ]
     },
     "metadata": {
      "needs_background": "light"
     },
     "output_type": "display_data"
    },
    {
     "data": {
      "image/png": "[encoded data removed]",
      "text/plain": [
       "<Figure size 864x288 with 2 Axes>"
      ]
     },
     "metadata": {
      "needs_background": "light"
     },
     "output_type": "display_data"
    },
    {
     "data": {
      "image/png": "[encoded data removed]",
      "text/plain": [
       "<Figure size 864x288 with 2 Axes>"
      ]
     },
     "metadata": {
      "needs_background": "light"
     },
     "output_type": "display_data"
    },
    {
     "data": {
      "image/png": "[encoded data removed]",
      "text/plain": [
       "<Figure size 864x288 with 2 Axes>"
      ]
     },
     "metadata": {
      "needs_background": "light"
     },
     "output_type": "display_data"
    },
    {
     "data": {
      "image/png": "[encoded data removed]",
      "text/plain": [
       "<Figure size 864x288 with 2 Axes>"
      ]
     },
     "metadata": {
      "needs_background": "light"
     },
     "output_type": "display_data"
    },
    {
     "data": {
      "image/png": "[encoded data removed]",
      "text/plain": [
       "<Figure size 864x288 with 2 Axes>"
      ]
     },
     "metadata": {
      "needs_background": "light"
     },
     "output_type": "display_data"
    }
   ],
   "source": [
    "for attr in categorical:\n",
    "  fig, (ax1, ax2) = plt.subplots(1, 2, figsize=(12,4))\n",
    "  outcome_counts = df_new.groupby([attr, 'success']).size().rename('count').reset_index()\n",
    "  by_outcome = outcome_counts.pivot(columns='success', values='count', index=attr)\n",
    "  # Plot the proportions\n",
    "  by_outcome.div(by_outcome.sum(1), axis=0).plot.bar(stacked=True, ax=ax1);\n",
    "  # Plot the counts\n",
    "  df_new[attr].value_counts().plot.bar(ax=ax2, legend=False,color='steelblue');\n",
    "  print('Support (%s)\\n' % attr)\n",
    "  print(df_new[attr].value_counts(), '\\n')\n",
    "  plt.title(attr);"
   ]
  },
  {
   "cell_type": "markdown",
   "metadata": {
    "colab_type": "text",
    "id": "bVfAOpJytysp"
   },
   "source": [
    "## Numerical analysis"
   ]
  },
  {
   "cell_type": "code",
   "execution_count": 19,
   "metadata": {
    "colab": {
     "base_uri": "https://localhost:8080/"
    },
    "colab_type": "code",
    "id": "b-y5yaCEt1J3",
    "outputId": "9fd50917-edd9-45c9-b280-fe3cecfa755b"
   },
   "outputs": [
    {
     "data": {
      "text/plain": [
       "age                                    0\n",
       "n_contacts_campaign                    0\n",
       "days_since_last_contact                0\n",
       "n_contacts_before                      0\n",
       "DAY(date)                              0\n",
       "WEEKDAY(date)                          0\n",
       "WEEK(date)                             0\n",
       "PERCENTILE(duration)                   0\n",
       "PERCENTILE(days_since_last_contact)    0\n",
       "dtype: int64"
      ]
     },
     "execution_count": 19,
     "metadata": {},
     "output_type": "execute_result"
    }
   ],
   "source": [
    "# Missing data?\n",
    "df_new[numeric].isnull().sum()"
   ]
  },
  {
   "cell_type": "code",
   "execution_count": 20,
   "metadata": {
    "colab": {
     "base_uri": "https://localhost:8080/"
    },
    "colab_type": "code",
    "id": "lTPm0oU7t6lP",
    "outputId": "df341534-7183-41cf-8576-b4a5264bfb25"
   },
   "outputs": [
    {
     "data": {
      "image/png": "[encoded data removed]",
      "text/plain": [
       "<Figure size 864x864 with 9 Axes>"
      ]
     },
     "metadata": {
      "needs_background": "light"
     },
     "output_type": "display_data"
    }
   ],
   "source": [
    "df_new[numeric].hist(figsize=(12,12));"
   ]
  },
  {
   "cell_type": "markdown",
   "metadata": {
    "colab_type": "text",
    "id": "bjCCNKNcvQnf"
   },
   "source": [
    "- The customer age is mostly between 20 and 60, only a few over 60 (variable age)\n",
    "- The customers were contacted at most a few days ago (variable days_since_last_contact)\n",
    "- The customers were mostly not contacted about the previous campaign, but also not often contacted about the current campaign"
   ]
  },
  {
   "cell_type": "code",
   "execution_count": 21,
   "metadata": {
    "colab": {
     "base_uri": "https://localhost:8080/"
    },
    "colab_type": "code",
    "id": "VtwNVNLRt_IU",
    "outputId": "1c9c298f-a915-4ecf-d52e-657d649869ae"
   },
   "outputs": [
    {
     "data": {
      "text/html": [
       "<div>\n",
       "<style scoped>\n",
       "    .dataframe tbody tr th:only-of-type {\n",
       "        vertical-align: middle;\n",
       "    }\n",
       "\n",
       "    .dataframe tbody tr th {\n",
       "        vertical-align: top;\n",
       "    }\n",
       "\n",
       "    .dataframe thead th {\n",
       "        text-align: right;\n",
       "    }\n",
       "</style>\n",
       "<table border=\"1\" class=\"dataframe\">\n",
       "  <thead>\n",
       "    <tr style=\"text-align: right;\">\n",
       "      <th></th>\n",
       "      <th>age</th>\n",
       "      <th>n_contacts_campaign</th>\n",
       "      <th>days_since_last_contact</th>\n",
       "      <th>n_contacts_before</th>\n",
       "      <th>DAY(date)</th>\n",
       "      <th>WEEKDAY(date)</th>\n",
       "      <th>WEEK(date)</th>\n",
       "      <th>PERCENTILE(duration)</th>\n",
       "      <th>PERCENTILE(days_since_last_contact)</th>\n",
       "    </tr>\n",
       "  </thead>\n",
       "  <tbody>\n",
       "    <tr>\n",
       "      <th>count</th>\n",
       "      <td>47893.000000</td>\n",
       "      <td>47893.000000</td>\n",
       "      <td>47893.000000</td>\n",
       "      <td>47893.000000</td>\n",
       "      <td>47893.000000</td>\n",
       "      <td>47893.000000</td>\n",
       "      <td>47893.000000</td>\n",
       "      <td>47893.000000</td>\n",
       "      <td>47893.000000</td>\n",
       "    </tr>\n",
       "    <tr>\n",
       "      <th>mean</th>\n",
       "      <td>40.253377</td>\n",
       "      <td>2.454304</td>\n",
       "      <td>924.480801</td>\n",
       "      <td>0.243480</td>\n",
       "      <td>6.653081</td>\n",
       "      <td>1.993214</td>\n",
       "      <td>26.343850</td>\n",
       "      <td>0.563357</td>\n",
       "      <td>0.480885</td>\n",
       "    </tr>\n",
       "    <tr>\n",
       "      <th>std</th>\n",
       "      <td>11.323350</td>\n",
       "      <td>2.580700</td>\n",
       "      <td>262.257541</td>\n",
       "      <td>0.608375</td>\n",
       "      <td>6.445910</td>\n",
       "      <td>1.406135</td>\n",
       "      <td>8.670718</td>\n",
       "      <td>0.295836</td>\n",
       "      <td>0.131476</td>\n",
       "    </tr>\n",
       "    <tr>\n",
       "      <th>min</th>\n",
       "      <td>17.000000</td>\n",
       "      <td>1.000000</td>\n",
       "      <td>0.000000</td>\n",
       "      <td>0.000000</td>\n",
       "      <td>1.000000</td>\n",
       "      <td>0.000000</td>\n",
       "      <td>14.000000</td>\n",
       "      <td>0.000054</td>\n",
       "      <td>0.000202</td>\n",
       "    </tr>\n",
       "    <tr>\n",
       "      <th>25%</th>\n",
       "      <td>32.000000</td>\n",
       "      <td>1.000000</td>\n",
       "      <td>999.000000</td>\n",
       "      <td>0.000000</td>\n",
       "      <td>4.000000</td>\n",
       "      <td>1.000000</td>\n",
       "      <td>19.000000</td>\n",
       "      <td>0.314346</td>\n",
       "      <td>0.518236</td>\n",
       "    </tr>\n",
       "    <tr>\n",
       "      <th>50%</th>\n",
       "      <td>38.000000</td>\n",
       "      <td>2.000000</td>\n",
       "      <td>999.000000</td>\n",
       "      <td>0.000000</td>\n",
       "      <td>5.000000</td>\n",
       "      <td>2.000000</td>\n",
       "      <td>23.000000</td>\n",
       "      <td>0.590844</td>\n",
       "      <td>0.518236</td>\n",
       "    </tr>\n",
       "    <tr>\n",
       "      <th>75%</th>\n",
       "      <td>48.000000</td>\n",
       "      <td>3.000000</td>\n",
       "      <td>999.000000</td>\n",
       "      <td>0.000000</td>\n",
       "      <td>7.000000</td>\n",
       "      <td>3.000000</td>\n",
       "      <td>32.000000</td>\n",
       "      <td>0.832650</td>\n",
       "      <td>0.518236</td>\n",
       "    </tr>\n",
       "    <tr>\n",
       "      <th>max</th>\n",
       "      <td>98.000000</td>\n",
       "      <td>56.000000</td>\n",
       "      <td>999.000000</td>\n",
       "      <td>7.000000</td>\n",
       "      <td>31.000000</td>\n",
       "      <td>4.000000</td>\n",
       "      <td>49.000000</td>\n",
       "      <td>1.000000</td>\n",
       "      <td>0.518236</td>\n",
       "    </tr>\n",
       "  </tbody>\n",
       "</table>\n",
       "</div>"
      ],
      "text/plain": [
       "                age  n_contacts_campaign  days_since_last_contact  \\\n",
       "count  47893.000000         47893.000000             47893.000000   \n",
       "mean      40.253377             2.454304               924.480801   \n",
       "std       11.323350             2.580700               262.257541   \n",
       "min       17.000000             1.000000                 0.000000   \n",
       "25%       32.000000             1.000000               999.000000   \n",
       "50%       38.000000             2.000000               999.000000   \n",
       "75%       48.000000             3.000000               999.000000   \n",
       "max       98.000000            56.000000               999.000000   \n",
       "\n",
       "       n_contacts_before     DAY(date)  WEEKDAY(date)    WEEK(date)  \\\n",
       "count       47893.000000  47893.000000   47893.000000  47893.000000   \n",
       "mean            0.243480      6.653081       1.993214     26.343850   \n",
       "std             0.608375      6.445910       1.406135      8.670718   \n",
       "min             0.000000      1.000000       0.000000     14.000000   \n",
       "25%             0.000000      4.000000       1.000000     19.000000   \n",
       "50%             0.000000      5.000000       2.000000     23.000000   \n",
       "75%             0.000000      7.000000       3.000000     32.000000   \n",
       "max             7.000000     31.000000       4.000000     49.000000   \n",
       "\n",
       "       PERCENTILE(duration)  PERCENTILE(days_since_last_contact)  \n",
       "count          47893.000000                         47893.000000  \n",
       "mean               0.563357                             0.480885  \n",
       "std                0.295836                             0.131476  \n",
       "min                0.000054                             0.000202  \n",
       "25%                0.314346                             0.518236  \n",
       "50%                0.590844                             0.518236  \n",
       "75%                0.832650                             0.518236  \n",
       "max                1.000000                             0.518236  "
      ]
     },
     "execution_count": 21,
     "metadata": {},
     "output_type": "execute_result"
    }
   ],
   "source": [
    "df_new[numeric].describe()"
   ]
  },
  {
   "cell_type": "markdown",
   "metadata": {
    "colab_type": "text",
    "id": "yB_aenmZwI53"
   },
   "source": [
    "- Average age of sighted customers: 38\n",
    "- Contacts during the current campaign on average: 2 times\n",
    "- Days since last contact: -1, because mostly the customer have not been contacted before. We should not consider the \"-1\" values and see what happens\n",
    "- Contacts before current campaign on average: zero times\n",
    "\n",
    "Hereby we can conclude that days_since_last_contact has an awful lot of customers which value is missing (-1). That can be problematic, is problematic, due to the fact that it manipulates the data. Because few customers have an instance of days_since_last_contact associated we should consider to drop it and see what happens!"
   ]
  },
  {
   "cell_type": "markdown",
   "metadata": {
    "colab_type": "text",
    "id": "oIZqlvxj0v0Z"
   },
   "source": [
    "## X,y definition"
   ]
  },
  {
   "cell_type": "code",
   "execution_count": 22,
   "metadata": {
    "colab": {},
    "colab_type": "code",
    "id": "XlUHa_KjjhNP"
   },
   "outputs": [],
   "source": [
    "#df_new.drop('duration', axis=1)\n",
    "X, y = df.drop('success', axis=1), df.success"
   ]
  },
  {
   "cell_type": "markdown",
   "metadata": {
    "colab_type": "text",
    "id": "VSdcTni7bT3h"
   },
   "source": [
    "## Splitting into Train and Test data\n"
   ]
  },
  {
   "cell_type": "code",
   "execution_count": 23,
   "metadata": {
    "colab": {},
    "colab_type": "code",
    "id": "zknZXlFCaBdy"
   },
   "outputs": [],
   "source": [
    "X_train, X_test, y_train, y_test = train_test_split(X, y, random_state=1909, stratify=y, shuffle=True, test_size=.2)"
   ]
  },
  {
   "cell_type": "code",
   "execution_count": 24,
   "metadata": {
    "colab": {
     "base_uri": "https://localhost:8080/",
     "height": 72
    },
    "colab_type": "code",
    "id": "nqLqBpVLZxLI",
    "outputId": "e212200c-8045-49e1-f058-8cdd4a47d544"
   },
   "outputs": [
    {
     "name": "stdout",
     "output_type": "stream",
     "text": [
      "(47893, 19)\n",
      "(47893,)\n",
      "(9579, 19)\n"
     ]
    }
   ],
   "source": [
    "print(X.shape)\n",
    "print(y.shape)\n",
    "print(X_test.shape)"
   ]
  },
  {
   "cell_type": "code",
   "execution_count": 25,
   "metadata": {
    "colab": {
     "base_uri": "https://localhost:8080/",
     "height": 90
    },
    "colab_type": "code",
    "id": "5zWaP-A9ON66",
    "outputId": "c9a62fa7-5fe6-4ab1-bb16-155d3aae0192"
   },
   "outputs": [
    {
     "data": {
      "text/plain": [
       "int64      8\n",
       "float64    2\n",
       "object     9\n",
       "dtype: int64"
      ]
     },
     "execution_count": 25,
     "metadata": {},
     "output_type": "execute_result"
    }
   ],
   "source": [
    "X.dtypes.groupby(X.dtypes).size()"
   ]
  },
  {
   "cell_type": "markdown",
   "metadata": {},
   "source": [
    "## Feature Engineering"
   ]
  },
  {
   "cell_type": "code",
   "execution_count": 26,
   "metadata": {},
   "outputs": [
    {
     "data": {
      "text/plain": [
       "Pipeline(memory=None,\n",
       "         steps=[('cat_ct',\n",
       "                 ColumnTransformer(n_jobs=None, remainder='drop',\n",
       "                                   sparse_threshold=0.3,\n",
       "                                   transformer_weights=None,\n",
       "                                   transformers=[('ft_pcontacted_last_campaign',\n",
       "                                                  FunctionTransformer(accept_sparse=False,\n",
       "                                                                      check_inverse=True,\n",
       "                                                                      func=<function ft_pcontacted_last_campaign at 0x7f46435d1820>,\n",
       "                                                                      inv_kw_args=None,\n",
       "                                                                      inverse_func=None,\n",
       "                                                                      kw_args=None,\n",
       "                                                                      validate...\n",
       "                                                 ('ft_campaign_gte10',\n",
       "                                                  FunctionTransformer(accept_sparse=False,\n",
       "                                                                      check_inverse=True,\n",
       "                                                                      func=<function ft_campaign_gte10 at 0x7f46435d1a60>,\n",
       "                                                                      inv_kw_args=None,\n",
       "                                                                      inverse_func=None,\n",
       "                                                                      kw_args=None,\n",
       "                                                                      validate=False),\n",
       "                                                  'n_contacts_campaign')],\n",
       "                                   verbose=False)),\n",
       "                ('ohe',\n",
       "                 OneHotEncoder(categories='auto', drop=None,\n",
       "                               dtype=<class 'numpy.float64'>,\n",
       "                               handle_unknown='ignore', sparse=True))],\n",
       "         verbose=False)"
      ]
     },
     "execution_count": 26,
     "metadata": {},
     "output_type": "execute_result"
    }
   ],
   "source": [
    "def ft_pcontacted_last_campaign(X):\n",
    "    pcontacted = ~(X == 999) & (X == -1)\n",
    "    return pcontacted.values.reshape(-1,1)\n",
    "\n",
    "def ft_pcampaign(X):\n",
    "    pcampaign = ~(X == 'Inexistent')\n",
    "    return pcampaign.values.reshape(-1,1)\n",
    "\n",
    "def ft_previous(X):\n",
    "    previous = X.astype(str)\n",
    "    return previous.values.reshape(-1,1)\n",
    "\n",
    "def ft_campaign_gte10(X):\n",
    "    campaign_gte10 = X >= 10\n",
    "    return campaign_gte10.values.reshape(-1,1)\n",
    "\n",
    "def ft_campaign_to_previous(X):\n",
    "    ratio = lambda x: 0 if (X.n_contacts_before).all() == 0 else (X.n_contacts_campaign).all() / (X.n_contacts_before).all()\n",
    "    campaign_to_previous = X[['n_contacts_campaign', 'n_contacts_before']].apply(ratio, axis=1)\n",
    "    return campaign_to_previous.values.reshape(-1,1)\n",
    "\n",
    "add_pcontacted_last_campaign = FunctionTransformer(ft_pcontacted_last_campaign, validate=False)\n",
    "add_pcampaign = FunctionTransformer(ft_pcampaign, validate=False)\n",
    "add_previous = FunctionTransformer(ft_previous, validate=False)\n",
    "add_campaign_gte10 = FunctionTransformer(ft_campaign_gte10, validate=False)\n",
    "add_campaign_to_previous = FunctionTransformer(ft_campaign_to_previous, validate=False)\n",
    "\n",
    "cat_features = [\n",
    "        ('ft_pcontacted_last_campaign', add_pcontacted_last_campaign, 'days_since_last_contact'),\n",
    "        ('ft_pcampaign', add_pcampaign, 'previous_conversion'),\n",
    "        ('ft_previous', add_previous, 'n_contacts_before'),\n",
    "        ('ft_campaign_gte10', add_campaign_gte10, 'n_contacts_campaign')]\n",
    "\n",
    "cat_ct = ColumnTransformer(cat_features)\n",
    "\n",
    "cat_pipeline = Pipeline([\n",
    "  ('cat_ct', cat_ct),\n",
    "  ('ohe', OneHotEncoder(handle_unknown='ignore'))\n",
    "])\n",
    "cat_pipeline.fit(X_train)"
   ]
  },
  {
   "cell_type": "code",
   "execution_count": 27,
   "metadata": {},
   "outputs": [
    {
     "data": {
      "text/plain": [
       "Pipeline(memory=None,\n",
       "         steps=[('num_union',\n",
       "                 FeatureUnion(n_jobs=None,\n",
       "                              transformer_list=[('ft_campaign_to_previous',\n",
       "                                                 FunctionTransformer(accept_sparse=False,\n",
       "                                                                     check_inverse=True,\n",
       "                                                                     func=<function ft_campaign_to_previous at 0x7f46435d1af0>,\n",
       "                                                                     inv_kw_args=None,\n",
       "                                                                     inverse_func=None,\n",
       "                                                                     kw_args=None,\n",
       "                                                                     validate=False))],\n",
       "                              transformer_weights=None, verbose=False)),\n",
       "                ('scaler',\n",
       "                 RobustScaler(copy=True, quantile_range=(25.0, 75.0),\n",
       "                              with_centering=True, with_scaling=True))],\n",
       "         verbose=False)"
      ]
     },
     "execution_count": 27,
     "metadata": {},
     "output_type": "execute_result"
    }
   ],
   "source": [
    "binning_pipeline = Pipeline([\n",
    "  ('log', FunctionTransformer(np.log, validate=True)),\n",
    "  ('kbins', KBinsDiscretizer())\n",
    "])\n",
    "\n",
    "age_campaign_ct = ColumnTransformer([\n",
    "  ('age_pipeline', clone(binning_pipeline), ['age']),\n",
    "  ('campaign_pipeline', clone(binning_pipeline), ['n_contacts_campaign'])\n",
    "])\n",
    "\n",
    "new_num_features = [\n",
    "    ('ft_campaign_to_previous', FunctionTransformer(ft_campaign_to_previous, validate=False))\n",
    "]\n",
    "\n",
    "num_union = FeatureUnion(new_num_features)\n",
    "\n",
    "num_pipeline = Pipeline([\n",
    "    ('num_union', num_union),\n",
    "    ('scaler', RobustScaler())\n",
    "])\n",
    "num_pipeline.fit(X_train)"
   ]
  },
  {
   "cell_type": "code",
   "execution_count": 28,
   "metadata": {},
   "outputs": [
    {
     "data": {
      "text/plain": [
       "(38314, 4)"
      ]
     },
     "execution_count": 28,
     "metadata": {},
     "output_type": "execute_result"
    }
   ],
   "source": [
    "cat_ct.fit_transform(X_train).shape"
   ]
  },
  {
   "cell_type": "code",
   "execution_count": 29,
   "metadata": {},
   "outputs": [
    {
     "data": {
      "text/plain": [
       "['ft_pcampaign_False',\n",
       " 'ft_previous_False',\n",
       " 'ft_previous_True',\n",
       " 'ft_campaign_gte10_0',\n",
       " 'ft_campaign_gte10_1',\n",
       " 'ft_campaign_gte10_2',\n",
       " 'ft_campaign_gte10_3',\n",
       " 'ft_campaign_gte10_4',\n",
       " 'ft_campaign_gte10_5',\n",
       " 'ft_campaign_gte10_6',\n",
       " 'remainder_False',\n",
       " 'remainder_True']"
      ]
     },
     "execution_count": 29,
     "metadata": {},
     "output_type": "execute_result"
    }
   ],
   "source": [
    "feature_names = [\n",
    "  # Don't incclude the last entry in the `named_transformers_` list since\n",
    "  # it's the `remainder` parameter for the ColumnTransformer\n",
    "  ['%s_%s' % (name, value) for value in values] for \n",
    "    name, values in list(zip(list(cat_ct.named_transformers_.keys())[1:], cat_pipeline.named_steps['ohe'].categories_))]\n",
    "\n",
    "cat_feature_names = [name for names in feature_names for name in names]\n",
    "cat_feature_names"
   ]
  },
  {
   "cell_type": "markdown",
   "metadata": {
    "colab_type": "text",
    "id": "OyqIxDimz1aw"
   },
   "source": [
    "## Pipeline Creation, Classifier LightGBM Implementation"
   ]
  },
  {
   "cell_type": "code",
   "execution_count": 30,
   "metadata": {
    "colab": {},
    "colab_type": "code",
    "id": "uBSPyrQgcWrB"
   },
   "outputs": [],
   "source": [
    "numeric_transformer = Pipeline(steps=[\n",
    "    ('imputer', SimpleImputer(strategy='median')),\n",
    "    ('scaler', StandardScaler())])\n",
    "categorical_transformer = Pipeline(steps=[\n",
    "    ('imputer', SimpleImputer(strategy='constant', fill_value='missing')),\n",
    "    ('onehot', OneHotEncoder(handle_unknown='ignore'))])"
   ]
  },
  {
   "cell_type": "code",
   "execution_count": 31,
   "metadata": {
    "colab": {},
    "colab_type": "code",
    "id": "m8jmQziPa6_e"
   },
   "outputs": [],
   "source": [
    "numeric_features = X.select_dtypes(include=['int64', 'float64']).columns\n",
    "categorical_features = X.select_dtypes(include=['object']).columns"
   ]
  },
  {
   "cell_type": "code",
   "execution_count": 32,
   "metadata": {
    "colab": {},
    "colab_type": "code",
    "id": "vGkluaHCch2K"
   },
   "outputs": [],
   "source": [
    "preprocessor = ColumnTransformer(\n",
    "    transformers=[\n",
    "        ('num', numeric_transformer, numeric_features),\n",
    "        ('cat', categorical_transformer, categorical_features)])"
   ]
  },
  {
   "cell_type": "code",
   "execution_count": 33,
   "metadata": {},
   "outputs": [],
   "source": [
    "ft_union = FeatureUnion([\n",
    "    ('cat_pipeline', cat_pipeline),\n",
    "    ('age_campaign_ct', age_campaign_ct),\n",
    "    ('num_union', num_union),\n",
    "    ('preprocessor', preprocessor)])"
   ]
  },
  {
   "cell_type": "code",
   "execution_count": 34,
   "metadata": {},
   "outputs": [
    {
     "name": "stderr",
     "output_type": "stream",
     "text": [
      "/home/maarch/venv/lib/python3.8/site-packages/sklearn/preprocessing/_discretization.py:195: UserWarning: Bins whose width are too small (i.e., <= 1e-8) in feature 0 are removed. Consider decreasing the number of bins.\n",
      "  warnings.warn('Bins whose width are too small (i.e., <= '\n"
     ]
    },
    {
     "data": {
      "text/plain": [
       "(47893, 72)"
      ]
     },
     "execution_count": 34,
     "metadata": {},
     "output_type": "execute_result"
    }
   ],
   "source": [
    "ft_union.fit(X)\n",
    "features = ft_union.transform(X)\n",
    "features.shape"
   ]
  },
  {
   "cell_type": "code",
   "execution_count": 35,
   "metadata": {
    "colab": {},
    "colab_type": "code",
    "id": "Jsfdg8TGaXsE"
   },
   "outputs": [],
   "source": [
    "import lightgbm as lgb\n",
    "from lightgbm import LGBMClassifier\n",
    "\n",
    "# We have chosen the Light GBM Classifier. It's a relative new algorithm that is not only fast but has also a very good acuracy\n",
    "lgbm = LGBMClassifier(objective='binary', random_state=1909)\n",
    "smo = SMOTE(random_state=1909)\n",
    "scorer = make_scorer(f1_score, pos_label='Yes')\n",
    "\n",
    "# RandomizedSearchCV parameters\n",
    "params = {\n",
    "    'classifier__learning_rate': [0.05, 0.1, 0.5],    \n",
    "    'classifier__boosting' : ['gbdt'],\n",
    "    'classifier__max_depth' : [-1],\n",
    "    'classifier__feature_fraction' : [0.7,1.0],\n",
    "    'classifier__min_gain_to_split' : [0.0,0.01,0.05],\n",
    "    'classifier__min_data_in_leaf':[60, 65, 70],\n",
    "    'classifier__metric':['auc'],\n",
    "    'classifier__max_bin':[240, 245, 250],\n",
    "    'classifier__num_iterations':[245, 250, 255],\n",
    "    'classifier__num_leaves':[500, 505, 510],\n",
    "    'classifier__scale_pos_weight': [1, 100, 1000],\n",
    "    'sampling__sampling_strategy': [0.4, 0.8,'minority']\n",
    "    }\n",
    "\n",
    "rf = Pipeline(steps=[('ft_union', ft_union),\n",
    "                     ('sampling', smo),             ### SMOTE ###                     \n",
    "                     ('classifier', lgbm)])"
   ]
  },
  {
   "cell_type": "code",
   "execution_count": 36,
   "metadata": {
    "colab": {
     "base_uri": "https://localhost:8080/",
     "height": 54
    },
    "colab_type": "code",
    "id": "o4uNQb_LaIcW",
    "outputId": "4db22251-55bb-4de5-c6e1-50cae1446de3"
   },
   "outputs": [
    {
     "name": "stdout",
     "output_type": "stream",
     "text": [
      "Fitting 10 folds for each of 15 candidates, totalling 150 fits\n"
     ]
    },
    {
     "name": "stderr",
     "output_type": "stream",
     "text": [
      "[Parallel(n_jobs=-1)]: Using backend LokyBackend with 24 concurrent workers.\n",
      "[Parallel(n_jobs=-1)]: Done   2 tasks      | elapsed:    9.1s\n",
      "/home/maarch/venv/lib/python3.8/site-packages/joblib/externals/loky/process_executor.py:703: UserWarning: A worker stopped while some jobs were given to the executor. This can be caused by a too short worker timeout or by a memory leak.\n",
      "  warnings.warn(\n",
      "[Parallel(n_jobs=-1)]: Done 150 out of 150 | elapsed:  3.1min finished\n",
      "/home/maarch/venv/lib/python3.8/site-packages/sklearn/preprocessing/_discretization.py:195: UserWarning: Bins whose width are too small (i.e., <= 1e-8) in feature 0 are removed. Consider decreasing the number of bins.\n",
      "  warnings.warn('Bins whose width are too small (i.e., <= '\n",
      "/home/maarch/venv/lib/python3.8/site-packages/lightgbm/engine.py:148: UserWarning: Found `num_iterations` in params. Will use it instead of argument\n",
      "  warnings.warn(\"Found `{}` in params. Will use it instead of argument\".format(alias))\n"
     ]
    },
    {
     "data": {
      "text/plain": [
       "RandomizedSearchCV(cv=10, error_score=nan,\n",
       "                   estimator=Pipeline(memory=None,\n",
       "                                      steps=[('ft_union',\n",
       "                                              FeatureUnion(n_jobs=None,\n",
       "                                                           transformer_list=[('cat_pipeline',\n",
       "                                                                              Pipeline(memory=None,\n",
       "                                                                                       steps=[('cat_ct',\n",
       "                                                                                               ColumnTransformer(n_jobs=None,\n",
       "                                                                                                                 remainder='drop',\n",
       "                                                                                                                 sparse_threshold=0.3,\n",
       "                                                                                                                 transformer_weights=None,\n",
       "                                                                                                                 transformers=[('ft_pcontacted_last_campaign',\n",
       "                                                                                                                                FunctionTransformer(acce...\n",
       "                                        'classifier__min_gain_to_split': [0.0,\n",
       "                                                                          0.01,\n",
       "                                                                          0.05],\n",
       "                                        'classifier__num_iterations': [245, 250,\n",
       "                                                                       255],\n",
       "                                        'classifier__num_leaves': [500, 505,\n",
       "                                                                   510],\n",
       "                                        'classifier__scale_pos_weight': [1, 100,\n",
       "                                                                         1000],\n",
       "                                        'sampling__sampling_strategy': [0.4,\n",
       "                                                                        0.8,\n",
       "                                                                        'minority']},\n",
       "                   pre_dispatch='2*n_jobs', random_state=None, refit=True,\n",
       "                   return_train_score=True,\n",
       "                   scoring=make_scorer(f1_score, pos_label=Yes), verbose=1)"
      ]
     },
     "execution_count": 36,
     "metadata": {},
     "output_type": "execute_result"
    }
   ],
   "source": [
    "# GridSearch\n",
    "#grid = GridSearchCV(rf, params, scoring=scorer, verbose=1, cv=5, n_jobs=-1, return_train_score=True)\n",
    "#grid.fit(X_train, y_train)\n",
    "\n",
    "# RandomizedSearch\n",
    "grid = RandomizedSearchCV(rf, params, scoring=scorer, verbose=1, cv=10, n_jobs=-1, n_iter=15, return_train_score=True)\n",
    "grid.fit(X_train, y_train)"
   ]
  },
  {
   "cell_type": "markdown",
   "metadata": {
    "colab_type": "text",
    "id": "Bk2yEHSPbZgw"
   },
   "source": [
    "## Evaluation"
   ]
  },
  {
   "cell_type": "code",
   "execution_count": 37,
   "metadata": {
    "colab": {},
    "colab_type": "code",
    "id": "HcQzgNyrzSe6"
   },
   "outputs": [],
   "source": [
    "training_score = grid.cv_results_['mean_train_score'][grid.best_index_] * 100\n",
    "test_score = grid.cv_results_['mean_test_score'][grid.best_index_] * 100"
   ]
  },
  {
   "cell_type": "code",
   "execution_count": 38,
   "metadata": {
    "colab": {},
    "colab_type": "code",
    "id": "mUWUsiZQlWHr"
   },
   "outputs": [
    {
     "data": {
      "text/plain": [
       "array([0.79073269, 1.        ,        nan,        nan, 1.        ,\n",
       "       0.98254675, 0.63327902,        nan,        nan,        nan,\n",
       "              nan,        nan,        nan,        nan, 0.99842271])"
      ]
     },
     "execution_count": 38,
     "metadata": {},
     "output_type": "execute_result"
    }
   ],
   "source": [
    "#grid.cv_results_['mean_fit_time']\n",
    "#grid.cv_results_['mean_score_time']\n",
    "grid.cv_results_['mean_train_score']"
   ]
  },
  {
   "cell_type": "code",
   "execution_count": 39,
   "metadata": {
    "colab": {},
    "colab_type": "code",
    "id": "LGaAGRO7z04b"
   },
   "outputs": [
    {
     "data": {
      "text/plain": [
       "'Mean F1 Score (Training/Test): 100.00%/92.31%'"
      ]
     },
     "execution_count": 39,
     "metadata": {},
     "output_type": "execute_result"
    }
   ],
   "source": [
    "f'Mean F1 Score (Training/Test): {training_score:.2f}%/{test_score:.2f}%'"
   ]
  },
  {
   "cell_type": "code",
   "execution_count": 40,
   "metadata": {
    "colab": {},
    "colab_type": "code",
    "id": "oukxLfKSl6PQ"
   },
   "outputs": [
    {
     "name": "stdout",
     "output_type": "stream",
     "text": [
      "\n",
      "Best Parameters = <bound method LGBMModel.get_params of LGBMClassifier(boosting='gbdt', boosting_type='gbdt', class_weight=None,\n",
      "               colsample_bytree=1.0, feature_fraction=0.7,\n",
      "               importance_type='split', learning_rate=0.1, max_bin=250,\n",
      "               max_depth=-1, metric='auc', min_child_samples=20,\n",
      "               min_child_weight=0.001, min_data_in_leaf=60,\n",
      "               min_gain_to_split=0.0, min_split_gain=0.0, n_estimators=100,\n",
      "               n_jobs=-1, num_iterations=245, num_leaves=500,\n",
      "               objective='binary', random_state=1909, reg_alpha=0.0,\n",
      "               reg_lambda=0.0, scale_pos_weight=1, silent=True, subsample=1.0,\n",
      "               subsample_for_bin=200000, subsample_freq=0)>\n"
     ]
    }
   ],
   "source": [
    "# importance of each attribute\n",
    "#print(grid.best_estimator_.named_steps[\"classifier\"].get_fscore())\n",
    "#grid.best_estimator_.named_steps[\"classifier\"].feature_importances_\n",
    "#fea_imp_.loc[fea_imp_.fea_imp > 0].sort_values(by=['fea_imp'], ascending = False)\n",
    "\n",
    "print(\"\\nBest Parameters = \" + str(grid.best_estimator_.named_steps['classifier'].get_params))"
   ]
  },
  {
   "cell_type": "code",
   "execution_count": 41,
   "metadata": {},
   "outputs": [
    {
     "name": "stdout",
     "output_type": "stream",
     "text": [
      "Accuracy of the GBM on test set: 0.923\n",
      "              precision    recall  f1-score   support\n",
      "\n",
      "          No       0.99      0.94      0.96      6579\n",
      "         Yes       0.88      0.97      0.92      3000\n",
      "\n",
      "    accuracy                           0.95      9579\n",
      "   macro avg       0.93      0.96      0.94      9579\n",
      "weighted avg       0.95      0.95      0.95      9579\n",
      "\n"
     ]
    }
   ],
   "source": [
    "predictors=list(X_train)\n",
    "\n",
    "print('Accuracy of the GBM on test set: {:.3f}'.format(grid.score(X_test, y_test)))\n",
    "pred=grid.predict(X_test)\n",
    "print(classification_report(y_test, pred))"
   ]
  },
  {
   "cell_type": "markdown",
   "metadata": {},
   "source": [
    "# Prediction"
   ]
  },
  {
   "cell_type": "code",
   "execution_count": 42,
   "metadata": {},
   "outputs": [],
   "source": [
    "prediction_dataset = pd.read_csv('https://raw.githubusercontent.com/saschaschworm/big-data-and-data-science/master/datasets/prediction-challenge/prediction-dataset.csv')"
   ]
  },
  {
   "cell_type": "code",
   "execution_count": 43,
   "metadata": {},
   "outputs": [],
   "source": [
    "prediction_dataset['days_since_last_contact'] = np.where(prediction_dataset['days_since_last_contact'].between(1,5), 1, prediction_dataset['days_since_last_contact'])\n",
    "prediction_dataset['days_since_last_contact'] = prediction_dataset['days_since_last_contact'].mask(prediction_dataset['days_since_last_contact'] >= 6, 2)\n",
    "prediction_dataset['days_since_last_contact'] = prediction_dataset['days_since_last_contact'].mask(prediction_dataset['days_since_last_contact'] == -1, 999)\n",
    "\n",
    "prediction_dataset['days_since_last_contact_cat'] = np.where(prediction_dataset['days_since_last_contact'].between(1,5), 1, prediction_dataset['days_since_last_contact'])\n",
    "prediction_dataset['days_since_last_contact_cat'] = prediction_dataset['days_since_last_contact'].mask(prediction_dataset['days_since_last_contact'] >= 6, 2)\n",
    "prediction_dataset['days_since_last_contact_cat'] = prediction_dataset['days_since_last_contact'].mask(prediction_dataset['days_since_last_contact'] == -1, 999)\n",
    "prediction_dataset['days_since_last_contact_cat'] = np.where(prediction_dataset['days_since_last_contact_cat'].between(1,5), 1, prediction_dataset['days_since_last_contact'])\n",
    "prediction_dataset['days_since_last_contact_cat'] = prediction_dataset['days_since_last_contact_cat'].mask(prediction_dataset['days_since_last_contact'] >= 6, 2)\n",
    "prediction_dataset['days_since_last_contact_cat'] = prediction_dataset['days_since_last_contact_cat'].mask(prediction_dataset['days_since_last_contact'] == -1, 999)"
   ]
  },
  {
   "cell_type": "code",
   "execution_count": 44,
   "metadata": {},
   "outputs": [],
   "source": [
    "prediction_dataset[\"days_since_last_contact_cat\"] = prediction_dataset[\"days_since_last_contact_cat\"].astype('object')"
   ]
  },
  {
   "cell_type": "code",
   "execution_count": 45,
   "metadata": {},
   "outputs": [],
   "source": [
    "es = ft.EntitySet(id = 'prediction_dataset')\n",
    "\n",
    "es = es.entity_from_dataframe(entity_id='prediction_dataset', \n",
    "                              dataframe = prediction_dataset, \n",
    "                              index = 'identifier', \n",
    "                              time_index = 'date', \n",
    "                              variable_types = {\"identifier\": ft.variable_types.Index, \"age\":ft.variable_types.Ordinal ,\"marital_status\": ft.variable_types.Categorical, \n",
    "                                                \"education\": ft.variable_types.Categorical, \"job\": ft.variable_types.Categorical, \"credit_default\": ft.variable_types.Boolean, \n",
    "                                                \"housing_loan\": ft.variable_types.Boolean, \"personal_loan\": ft.variable_types.Boolean, \"communication_type\": ft.variable_types.Categorical, \n",
    "                                                \"n_contacts_campaign\": ft.variable_types.Ordinal, \"days_since_last_contact\": ft.variable_types.variable.Numeric, \n",
    "                                                \"n_contacts_before\": ft.variable_types.variable.Ordinal, \"previous_conversion\": ft.variable_types.variable.Categorical, \n",
    "                                                \"duration\": ft.variable_types.variable.Numeric, \"days_since_last_contact_cat\": ft.variable_types.variable.Categorical})\n",
    "\n",
    "es['prediction_dataset']\n",
    "\n",
    "prediction_dataset_new, prediction_dataset_new_names = ft.dfs(entityset=es, target_entity='prediction_dataset',\n",
    "                              trans_primitives = ['day', 'weekday', 'week', 'percentile'],\n",
    "                              max_depth = 2)"
   ]
  },
  {
   "cell_type": "code",
   "execution_count": 46,
   "metadata": {},
   "outputs": [
    {
     "name": "stdout",
     "output_type": "stream",
     "text": [
      "['age', 'marital_status', 'education', 'job', 'credit_default', 'housing_loan', 'personal_loan', 'communication_type', 'n_contacts_campaign', 'days_since_last_contact', 'n_contacts_before', 'previous_conversion', 'duration', 'success', 'days_since_last_contact_cat', 'DAY(date)', 'WEEKDAY(date)', 'WEEK(date)', 'PERCENTILE(duration)', 'PERCENTILE(days_since_last_contact)']\n"
     ]
    }
   ],
   "source": [
    "cols = list(df_new.columns.values)\n",
    "print(cols)\n",
    "prediction_dataset_new = prediction_dataset_new[['age', 'marital_status', 'education', 'job', 'credit_default', 'housing_loan', 'personal_loan', 'communication_type', 'n_contacts_campaign', 'days_since_last_contact', 'n_contacts_before', 'previous_conversion', 'duration', 'days_since_last_contact_cat', 'DAY(date)', 'WEEKDAY(date)', 'WEEK(date)', 'PERCENTILE(duration)', 'PERCENTILE(days_since_last_contact)']]"
   ]
  },
  {
   "cell_type": "code",
   "execution_count": 47,
   "metadata": {},
   "outputs": [],
   "source": [
    "predictions = grid.best_estimator_.predict(prediction_dataset_new)"
   ]
  },
  {
   "cell_type": "markdown",
   "metadata": {},
   "source": [
    "# Submission Dataset Preparation"
   ]
  },
  {
   "cell_type": "code",
   "execution_count": 48,
   "metadata": {},
   "outputs": [],
   "source": [
    "submission = pd.DataFrame(predictions, index=prediction_dataset.index, columns=['prediction'])"
   ]
  },
  {
   "cell_type": "code",
   "execution_count": 49,
   "metadata": {},
   "outputs": [],
   "source": [
    "matrikel_mheichler = '465475'\n",
    "matrikel_psaustum = '470057'"
   ]
  },
  {
   "cell_type": "code",
   "execution_count": 50,
   "metadata": {},
   "outputs": [],
   "source": [
    "submission.to_csv(f'./submission-{matrikel_mheichler}-{matrikel_psaustum}.csv', index_label='identifier')"
   ]
  }
 ],
 "metadata": {
  "colab": {
   "collapsed_sections": [
    "KA5XN4WBx0ye",
    "bVfAOpJytysp",
    "SlAgDebQTC1V"
   ],
   "name": "Umsetzung_50upsampling50smote_lgbm.ipynb",
   "provenance": []
  },
  "kernelspec": {
   "display_name": "venvPy3",
   "language": "python",
   "name": "venvpy3"
  },
  "language_info": {
   "codemirror_mode": {
    "name": "ipython",
    "version": 3
   },
   "file_extension": ".py",
   "mimetype": "text/x-python",
   "name": "python",
   "nbconvert_exporter": "python",
   "pygments_lexer": "ipython3",
   "version": "3.8.1"
  }
 },
 "nbformat": 4,
 "nbformat_minor": 4
}
